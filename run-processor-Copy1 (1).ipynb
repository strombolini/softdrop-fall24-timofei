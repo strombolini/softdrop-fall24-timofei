{
 "cells": [
  {
   "cell_type": "code",
   "execution_count": 1,
   "id": "c5284b49",
   "metadata": {},
   "outputs": [],
   "source": [
    "%load_ext autoreload\n",
    "from coffea import util, processor\n",
    "from msdprocessor5 import msdProcessor\n",
    "\n",
    "from coffea.nanoevents import NanoEventsFactory, BaseSchema, PFNanoAODSchema\n",
    "import json\n",
    "import distributed\n",
    "import dask\n",
    "import awkward as ak\n",
    "import hist\n",
    "import numpy as np\n",
    "import matplotlib.pyplot as plt\n",
    "from matplotlib.colors import LogNorm\n",
    "import matplotlib.colors as mcolors\n",
    "from mpl_toolkits.mplot3d import Axes3D\n",
    "from hist import Hist\n",
    "import dask_awkward\n",
    "import os"
   ]
  },
  {
   "cell_type": "code",
   "execution_count": 2,
   "id": "894a0fe4",
   "metadata": {},
   "outputs": [
    {
     "name": "stdout",
     "output_type": "stream",
     "text": [
      "['/uscms/home/jennetd/nobackup/hbb-prod-modes/run3-triggers/data-mc/ggF.root', '/uscms/home/jennetd/nobackup/hbb-prod-modes/run3-triggers/data-mc/VBF.root', '/uscms/home/jennetd/nobackup/hbb-prod-modes/run3-triggers/data-mc/WminusH.root', '/uscms/home/jennetd/nobackup/hbb-prod-modes/run3-triggers/data-mc/ZH.root', '/uscms/home/jennetd/nobackup/hbb-prod-modes/run3-triggers/data-mc/QCD_Pt470to600.root']\n"
     ]
    }
   ],
   "source": [
    "#Trying to loop through as many files as possible and stack histograms\n",
    "directory_path = \"/uscms/home/jennetd/nobackup/hbb-prod-modes/run3-triggers/data-mc/\"\n",
    "\n",
    "singlefile = [\"/uscms/home/jennetd/nobackup/hbb-prod-modes/run3-triggers/data-mc/QCD_Pt470to600.root\"]\n",
    "\n",
    "#Create an array with all the files in /data-mc\n",
    "fileset = []\n",
    "for filename in os.listdir(directory_path):\n",
    "    if filename.endswith(\".root\"):\n",
    "        # Add the full file path to the fileset list\n",
    "        fileset.append(os.path.join(directory_path, filename))\n",
    "print(fileset)"
   ]
  },
  {
   "cell_type": "code",
   "execution_count": 3,
   "id": "55f0addf-070e-44e0-9478-650393c60bbb",
   "metadata": {},
   "outputs": [
    {
     "name": "stderr",
     "output_type": "stream",
     "text": [
      "/uscms/home/tbabenko/nobackup/miniconda3/envs/fastjet/lib/python3.12/site-packages/coffea/nanoevents/methods/candidate.py:11: FutureWarning: In version 2024.7.0 (target date: 2024-06-30 11:59:59-05:00), this will be an error.\n",
      "To raise these warnings as errors (and get stack traces to find out where they're called), run\n",
      "    import warnings\n",
      "    warnings.filterwarnings(\"error\", module=\"coffea.*\")\n",
      "after the first `import coffea` or use `@pytest.mark.filterwarnings(\"error:::coffea.*\")` in pytest.\n",
      "Issue: coffea.nanoevents.methods.vector will be removed and replaced with scikit-hep vector. Nanoevents schemas internal to coffea will be migrated. Otherwise please consider using that package!.\n",
      "  from coffea.nanoevents.methods import vector\n"
     ]
    }
   ],
   "source": [
    "# Start summing events\n",
    "file = fileset[0]\n",
    "events = NanoEventsFactory.from_root({file: \"/Events\"},\n",
    "    schemaclass=PFNanoAODSchema\n",
    "    ).events()"
   ]
  },
  {
   "cell_type": "code",
   "execution_count": 4,
   "id": "0ff29115-9e6d-490d-a9d1-c39a64a9a1c9",
   "metadata": {
    "scrolled": true
   },
   "outputs": [
    {
     "name": "stdout",
     "output_type": "stream",
     "text": [
      "[{'b0': Hist(Regular(40, 0, 400, name='msoftdrop', label='Jet $m_\\\\mathrm{softdrop}$ [GeV]'), storage=Weight()) # Sum: WeightedSum(value=0, variance=0) (has staged fills), 'b1': Hist(Regular(40, 0, 400, name='msoftdrop', label='Jet $m_\\\\mathrm{softdrop}$ [GeV]'), storage=Weight()) # Sum: WeightedSum(value=0, variance=0) (has staged fills), 'b2': Hist(Regular(40, 0, 400, name='msoftdrop', label='Jet $m_\\\\mathrm{softdrop}$ [GeV]'), storage=Weight()) # Sum: WeightedSum(value=0, variance=0) (has staged fills), 'b3': Hist(Regular(40, 0, 400, name='msoftdrop', label='Jet $m_\\\\mathrm{softdrop}$ [GeV]'), storage=Weight()) # Sum: WeightedSum(value=0, variance=0) (has staged fills), 'b4': Hist(Regular(40, 0, 400, name='msoftdrop', label='Jet $m_\\\\mathrm{softdrop}$ [GeV]'), storage=Weight()) # Sum: WeightedSum(value=0, variance=0) (has staged fills), 'b5': Hist(Regular(40, 0, 400, name='msoftdrop', label='Jet $m_\\\\mathrm{softdrop}$ [GeV]'), storage=Weight()) # Sum: WeightedSum(value=0, variance=0) (has staged fills), 'b6': Hist(Regular(40, 0, 400, name='msoftdrop', label='Jet $m_\\\\mathrm{softdrop}$ [GeV]'), storage=Weight()) # Sum: WeightedSum(value=0, variance=0) (has staged fills), 'b7': Hist(Regular(40, 0, 400, name='msoftdrop', label='Jet $m_\\\\mathrm{softdrop}$ [GeV]'), storage=Weight()) # Sum: WeightedSum(value=0, variance=0) (has staged fills), 'b8': Hist(Regular(40, 0, 400, name='msoftdrop', label='Jet $m_\\\\mathrm{softdrop}$ [GeV]'), storage=Weight()) # Sum: WeightedSum(value=0, variance=0) (has staged fills), 'b9': Hist(Regular(40, 0, 400, name='msoftdrop', label='Jet $m_\\\\mathrm{softdrop}$ [GeV]'), storage=Weight()) # Sum: WeightedSum(value=0, variance=0) (has staged fills), 'sumw': dask.awkward<sum, type=Scalar, dtype=float32>}, {'b0': Hist(Regular(40, 0, 400, name='msoftdrop', label='Jet $m_\\\\mathrm{softdrop}$ [GeV]'), storage=Weight()) # Sum: WeightedSum(value=0, variance=0) (has staged fills), 'b1': Hist(Regular(40, 0, 400, name='msoftdrop', label='Jet $m_\\\\mathrm{softdrop}$ [GeV]'), storage=Weight()) # Sum: WeightedSum(value=0, variance=0) (has staged fills), 'b2': Hist(Regular(40, 0, 400, name='msoftdrop', label='Jet $m_\\\\mathrm{softdrop}$ [GeV]'), storage=Weight()) # Sum: WeightedSum(value=0, variance=0) (has staged fills), 'b3': Hist(Regular(40, 0, 400, name='msoftdrop', label='Jet $m_\\\\mathrm{softdrop}$ [GeV]'), storage=Weight()) # Sum: WeightedSum(value=0, variance=0) (has staged fills), 'b4': Hist(Regular(40, 0, 400, name='msoftdrop', label='Jet $m_\\\\mathrm{softdrop}$ [GeV]'), storage=Weight()) # Sum: WeightedSum(value=0, variance=0) (has staged fills), 'b5': Hist(Regular(40, 0, 400, name='msoftdrop', label='Jet $m_\\\\mathrm{softdrop}$ [GeV]'), storage=Weight()) # Sum: WeightedSum(value=0, variance=0) (has staged fills), 'b6': Hist(Regular(40, 0, 400, name='msoftdrop', label='Jet $m_\\\\mathrm{softdrop}$ [GeV]'), storage=Weight()) # Sum: WeightedSum(value=0, variance=0) (has staged fills), 'b7': Hist(Regular(40, 0, 400, name='msoftdrop', label='Jet $m_\\\\mathrm{softdrop}$ [GeV]'), storage=Weight()) # Sum: WeightedSum(value=0, variance=0) (has staged fills), 'b8': Hist(Regular(40, 0, 400, name='msoftdrop', label='Jet $m_\\\\mathrm{softdrop}$ [GeV]'), storage=Weight()) # Sum: WeightedSum(value=0, variance=0) (has staged fills), 'b9': Hist(Regular(40, 0, 400, name='msoftdrop', label='Jet $m_\\\\mathrm{softdrop}$ [GeV]'), storage=Weight()) # Sum: WeightedSum(value=0, variance=0) (has staged fills)}]\n"
     ]
    }
   ],
   "source": [
    "#Add up all the events\n",
    "result = msdProcessor().process(events)\n",
    "print(result)"
   ]
  },
  {
   "cell_type": "code",
   "execution_count": 5,
   "id": "a8eeae19-2672-4011-8cb7-9b763d480a02",
   "metadata": {},
   "outputs": [
    {
     "name": "stdout",
     "output_type": "stream",
     "text": [
      "#--------------------------------------------------------------------------\n",
      "#                         FastJet release 3.4.1\n",
      "#                 M. Cacciari, G.P. Salam and G. Soyez                  \n",
      "#     A software package for jet finding and analysis at colliders      \n",
      "#                           http://fastjet.fr                           \n",
      "#\t                                                                      \n",
      "# Please cite EPJC72(2012)1896 [arXiv:1111.6097] if you use this package\n",
      "# for scientific work and optionally PLB641(2006)57 [hep-ph/0512210].   \n",
      "#                                                                       \n",
      "# FastJet is provided without warranty under the GNU GPL v2 or higher.  \n",
      "# It uses T. Chan's closest pair algorithm, S. Fortune's Voronoi code,\n",
      "# CGAL and 3rd party plugin jet algorithms. See COPYING file for details.\n",
      "#--------------------------------------------------------------------------\n",
      "saved histogram.coffea\n",
      "([{'b0': Hist(Regular(40, 0, 400, name='msoftdrop', label='Jet $m_\\\\mathrm{softdrop}$ [GeV]'), storage=Weight()) # Sum: WeightedSum(value=294.867, variance=139.115) (WeightedSum(value=295.339, variance=139.338) with flow), 'b1': Hist(Regular(40, 0, 400, name='msoftdrop', label='Jet $m_\\\\mathrm{softdrop}$ [GeV]'), storage=Weight()) # Sum: WeightedSum(value=294.867, variance=139.115) (WeightedSum(value=295.339, variance=139.338) with flow), 'b2': Hist(Regular(40, 0, 400, name='msoftdrop', label='Jet $m_\\\\mathrm{softdrop}$ [GeV]'), storage=Weight()) # Sum: WeightedSum(value=294.867, variance=139.115) (WeightedSum(value=295.339, variance=139.338) with flow), 'b3': Hist(Regular(40, 0, 400, name='msoftdrop', label='Jet $m_\\\\mathrm{softdrop}$ [GeV]'), storage=Weight()) # Sum: WeightedSum(value=294.867, variance=139.115) (WeightedSum(value=295.339, variance=139.338) with flow), 'b4': Hist(Regular(40, 0, 400, name='msoftdrop', label='Jet $m_\\\\mathrm{softdrop}$ [GeV]'), storage=Weight()) # Sum: WeightedSum(value=295.339, variance=139.338), 'b5': Hist(Regular(40, 0, 400, name='msoftdrop', label='Jet $m_\\\\mathrm{softdrop}$ [GeV]'), storage=Weight()) # Sum: WeightedSum(value=295.339, variance=139.338), 'b6': Hist(Regular(40, 0, 400, name='msoftdrop', label='Jet $m_\\\\mathrm{softdrop}$ [GeV]'), storage=Weight()) # Sum: WeightedSum(value=295.339, variance=139.338), 'b7': Hist(Regular(40, 0, 400, name='msoftdrop', label='Jet $m_\\\\mathrm{softdrop}$ [GeV]'), storage=Weight()) # Sum: WeightedSum(value=295.339, variance=139.338), 'b8': Hist(Regular(40, 0, 400, name='msoftdrop', label='Jet $m_\\\\mathrm{softdrop}$ [GeV]'), storage=Weight()) # Sum: WeightedSum(value=295.339, variance=139.338), 'b9': Hist(Regular(40, 0, 400, name='msoftdrop', label='Jet $m_\\\\mathrm{softdrop}$ [GeV]'), storage=Weight()) # Sum: WeightedSum(value=295.339, variance=139.338), 'sumw': 295.33975}, {'b0': Hist(Regular(40, 0, 400, name='msoftdrop', label='Jet $m_\\\\mathrm{softdrop}$ [GeV]'), storage=Weight()) # Sum: WeightedSum(value=295.339, variance=139.338), 'b1': Hist(Regular(40, 0, 400, name='msoftdrop', label='Jet $m_\\\\mathrm{softdrop}$ [GeV]'), storage=Weight()) # Sum: WeightedSum(value=294.867, variance=139.115) (WeightedSum(value=295.339, variance=139.338) with flow), 'b2': Hist(Regular(40, 0, 400, name='msoftdrop', label='Jet $m_\\\\mathrm{softdrop}$ [GeV]'), storage=Weight()) # Sum: WeightedSum(value=288.734, variance=136.221) (WeightedSum(value=295.339, variance=139.338) with flow), 'b3': Hist(Regular(40, 0, 400, name='msoftdrop', label='Jet $m_\\\\mathrm{softdrop}$ [GeV]'), storage=Weight()) # Sum: WeightedSum(value=266.088, variance=125.537) (WeightedSum(value=295.339, variance=139.338) with flow), 'b4': Hist(Regular(40, 0, 400, name='msoftdrop', label='Jet $m_\\\\mathrm{softdrop}$ [GeV]'), storage=Weight()) # Sum: WeightedSum(value=238.725, variance=112.627) (WeightedSum(value=295.339, variance=139.338) with flow), 'b5': Hist(Regular(40, 0, 400, name='msoftdrop', label='Jet $m_\\\\mathrm{softdrop}$ [GeV]'), storage=Weight()) # Sum: WeightedSum(value=198.623, variance=93.7078) (WeightedSum(value=295.339, variance=139.338) with flow), 'b6': Hist(Regular(40, 0, 400, name='msoftdrop', label='Jet $m_\\\\mathrm{softdrop}$ [GeV]'), storage=Weight()) # Sum: WeightedSum(value=198.623, variance=93.7078) (WeightedSum(value=295.339, variance=139.338) with flow), 'b7': Hist(Regular(40, 0, 400, name='msoftdrop', label='Jet $m_\\\\mathrm{softdrop}$ [GeV]'), storage=Weight()) # Sum: WeightedSum(value=198.623, variance=93.7078) (WeightedSum(value=295.339, variance=139.338) with flow), 'b8': Hist(Regular(40, 0, 400, name='msoftdrop', label='Jet $m_\\\\mathrm{softdrop}$ [GeV]'), storage=Weight()) # Sum: WeightedSum(value=198.623, variance=93.7078) (WeightedSum(value=295.339, variance=139.338) with flow), 'b9': Hist(Regular(40, 0, 400, name='msoftdrop', label='Jet $m_\\\\mathrm{softdrop}$ [GeV]'), storage=Weight()) # Sum: WeightedSum(value=198.623, variance=93.7078) (WeightedSum(value=295.339, variance=139.338) with flow)}],)\n"
     ]
    }
   ],
   "source": [
    "#Compute the matrix of results from the matrix of events\n",
    "\n",
    "full_compute = dask.compute(result)\n",
    "\n",
    "# save the output file\n",
    "outfile = \"histogram.coffea\"\n",
    "util.save(full_compute, outfile)\n",
    "print(\"saved \" + outfile)\n",
    "\n",
    "#print full compute\n",
    "\n",
    "print(full_compute)"
   ]
  },
  {
   "cell_type": "code",
   "execution_count": 6,
   "id": "d897da75-981a-49f7-992b-61c0240babc4",
   "metadata": {},
   "outputs": [
    {
     "name": "stdout",
     "output_type": "stream",
     "text": [
      "{'b0': Hist(Regular(40, 0, 400, name='msoftdrop', label='Jet $m_\\\\mathrm{softdrop}$ [GeV]'), storage=Weight()) # Sum: WeightedSum(value=295.339, variance=139.338), 'b1': Hist(Regular(40, 0, 400, name='msoftdrop', label='Jet $m_\\\\mathrm{softdrop}$ [GeV]'), storage=Weight()) # Sum: WeightedSum(value=294.867, variance=139.115) (WeightedSum(value=295.339, variance=139.338) with flow), 'b2': Hist(Regular(40, 0, 400, name='msoftdrop', label='Jet $m_\\\\mathrm{softdrop}$ [GeV]'), storage=Weight()) # Sum: WeightedSum(value=288.734, variance=136.221) (WeightedSum(value=295.339, variance=139.338) with flow), 'b3': Hist(Regular(40, 0, 400, name='msoftdrop', label='Jet $m_\\\\mathrm{softdrop}$ [GeV]'), storage=Weight()) # Sum: WeightedSum(value=266.088, variance=125.537) (WeightedSum(value=295.339, variance=139.338) with flow), 'b4': Hist(Regular(40, 0, 400, name='msoftdrop', label='Jet $m_\\\\mathrm{softdrop}$ [GeV]'), storage=Weight()) # Sum: WeightedSum(value=238.725, variance=112.627) (WeightedSum(value=295.339, variance=139.338) with flow), 'b5': Hist(Regular(40, 0, 400, name='msoftdrop', label='Jet $m_\\\\mathrm{softdrop}$ [GeV]'), storage=Weight()) # Sum: WeightedSum(value=198.623, variance=93.7078) (WeightedSum(value=295.339, variance=139.338) with flow), 'b6': Hist(Regular(40, 0, 400, name='msoftdrop', label='Jet $m_\\\\mathrm{softdrop}$ [GeV]'), storage=Weight()) # Sum: WeightedSum(value=198.623, variance=93.7078) (WeightedSum(value=295.339, variance=139.338) with flow), 'b7': Hist(Regular(40, 0, 400, name='msoftdrop', label='Jet $m_\\\\mathrm{softdrop}$ [GeV]'), storage=Weight()) # Sum: WeightedSum(value=198.623, variance=93.7078) (WeightedSum(value=295.339, variance=139.338) with flow), 'b8': Hist(Regular(40, 0, 400, name='msoftdrop', label='Jet $m_\\\\mathrm{softdrop}$ [GeV]'), storage=Weight()) # Sum: WeightedSum(value=198.623, variance=93.7078) (WeightedSum(value=295.339, variance=139.338) with flow), 'b9': Hist(Regular(40, 0, 400, name='msoftdrop', label='Jet $m_\\\\mathrm{softdrop}$ [GeV]'), storage=Weight()) # Sum: WeightedSum(value=198.623, variance=93.7078) (WeightedSum(value=295.339, variance=139.338) with flow)}\n"
     ]
    },
    {
     "data": {
      "image/png": "[encoded data removed]",
      "text/plain": [
       "<Figure size 640x480 with 1 Axes>"
      ]
     },
     "metadata": {},
     "output_type": "display_data"
    }
   ],
   "source": [
    "compute = full_compute\n",
    "# Define the number of betas to iterate over\n",
    "n_betas = 10  # Adjust this to the number of betas you have\n",
    "\n",
    "# Initialize a matrix to store the compute values\n",
    "print(compute[0][1])\n",
    "compute_matrix = [compute[0][1][f'b{beta}'] for beta in range(n_betas)]\n",
    "\n",
    "# Plotting the histograms for each beta\n",
    "fig, ax = plt.subplots()\n",
    "# Loop through the compute matrix to plot each histogram\n",
    "for beta in range(n_betas):\n",
    "\n",
    "    compute_matrix[beta].plot1d(ax=ax, label=f'beta = {beta}')\n",
    "plt.legend()\n",
    "plt.show()\n",
    "# Add legend and show the plot\n",
    "\n"
   ]
  },
  {
   "cell_type": "code",
   "execution_count": 7,
   "id": "c3a7809d-6e71-422e-a695-4a348d9f3342",
   "metadata": {},
   "outputs": [
    {
     "ename": "NameError",
     "evalue": "name 'h' is not defined",
     "output_type": "error",
     "traceback": [
      "\u001b[0;31m---------------------------------------------------------------------------\u001b[0m",
      "\u001b[0;31mNameError\u001b[0m                                 Traceback (most recent call last)",
      "Cell \u001b[0;32mIn[7], line 1\u001b[0m\n\u001b[0;32m----> 1\u001b[0m num_bins \u001b[38;5;241m=\u001b[39m \u001b[43mh\u001b[49m\u001b[38;5;241m.\u001b[39maxes[\u001b[38;5;241m0\u001b[39m]\u001b[38;5;241m.\u001b[39msize\n\u001b[1;32m      2\u001b[0m msoftdrop_bins \u001b[38;5;241m=\u001b[39m np\u001b[38;5;241m.\u001b[39mlinspace(\u001b[38;5;241m0\u001b[39m, \u001b[38;5;241m400\u001b[39m, num_bins \u001b[38;5;241m+\u001b[39m \u001b[38;5;241m1\u001b[39m)  \u001b[38;5;66;03m# Adjust 400 and number of bins as per your range\u001b[39;00m\n\u001b[1;32m      3\u001b[0m msoftdrop_axis \u001b[38;5;241m=\u001b[39m hist\u001b[38;5;241m.\u001b[39maxis\u001b[38;5;241m.\u001b[39mRegular(num_bins, msoftdrop_bins[\u001b[38;5;241m0\u001b[39m], msoftdrop_bins[\u001b[38;5;241m-\u001b[39m\u001b[38;5;241m1\u001b[39m], name\u001b[38;5;241m=\u001b[39m\u001b[38;5;124m\"\u001b[39m\u001b[38;5;124mmsoftdrop\u001b[39m\u001b[38;5;124m\"\u001b[39m, label\u001b[38;5;241m=\u001b[39m\u001b[38;5;124m\"\u001b[39m\u001b[38;5;124mSoftdrop Mass\u001b[39m\u001b[38;5;124m\"\u001b[39m)\n",
      "\u001b[0;31mNameError\u001b[0m: name 'h' is not defined"
     ]
    }
   ],
   "source": [
    "num_bins = h.axes[0].size\n",
    "msoftdrop_bins = np.linspace(0, 400, num_bins + 1)  # Adjust 400 and number of bins as per your range\n",
    "msoftdrop_axis = hist.axis.Regular(num_bins, msoftdrop_bins[0], msoftdrop_bins[-1], name=\"msoftdrop\", label=\"Softdrop Mass\")\n",
    "\n",
    "# Define a categorical axis for beta values\n",
    "beta_axis = hist.axis.IntCategory([0, 1, 2, 3, 4], name=\"beta\", label=\"Beta\")\n",
    "\n",
    "# Create an empty 3D histogram with msoftdrop and beta axes\n",
    "hist_3d = hist.Hist(msoftdrop_axis, beta_axis)\n",
    "\n",
    "# Extract frequencies for each `beta` value and fill them into `hist_3d`\n",
    "msoftdrop_vals = np.repeat(hist_3d.axes[0].centers, 5)  # repeat for each beta layer\n",
    "beta_vals = np.tile(np.array([0, 1, 2, 3, 4]), num_bins)  # repeat beta values across msoftdrop bins\n",
    "\n",
    "frequencies = np.concatenate([h.view(), i.view(), j.view(), k.view(), l.view()])\n",
    "\n",
    "# Use the `fill` method to populate `hist_3d`\n",
    "hist_3d.fill(msoftdrop=msoftdrop_vals, beta=beta_vals, weight=frequencies)\n",
    "\n",
    "# Prepare data for 3D plotting\n",
    "msoftdrop_vals, beta_vals = np.meshgrid(\n",
    "    hist_3d.axes[0].centers,  # Centers of msoftdrop bins\n",
    "    hist_3d.axes[1].centers   # Centers of beta bins\n",
    ")\n",
    "frequencies = hist_3d.view().T  # Transpose to match meshgrid shape\n",
    "\n",
    "# Plotting in 3D\n",
    "fig = plt.figure(figsize=(10, 7))\n",
    "ax = fig.add_subplot(111, projection='3d')\n",
    "\n",
    "# Create a surface plot\n",
    "surf = ax.plot_surface(\n",
    "    msoftdrop_vals, beta_vals, frequencies,\n",
    "    cmap=\"viridis\", edgecolor='none'\n",
    ")\n",
    "ax.set_xlabel(\"Softdrop Mass (msoftdrop)\")\n",
    "ax.set_ylabel(\"Beta\")\n",
    "ax.set_zlabel(\"Frequency\")\n",
    "ax.set_title(\"3D Histogram of msoftdrop vs Beta\")\n",
    "\n",
    "# Add a color bar to show frequency values\n",
    "fig.colorbar(surf, ax=ax, label=\"Frequency\")\n",
    "plt.show()"
   ]
  },
  {
   "cell_type": "code",
   "execution_count": null,
   "id": "6fdcf6a2-a6bc-4d6e-b056-a0ee46518f7e",
   "metadata": {},
   "outputs": [],
   "source": [
    "\n",
    "#Plot the hist of an individual file\n",
    "#Single Jet\n",
    "\n",
    "h = compute[0]['ExampleHistogram']\n",
    "\n",
    "fig, ax = plt.subplots()\n",
    "h.plot1d(ax=ax, norm=mcolors.LogNorm())  # Colors and Normalized Log Plot\n",
    "plt.show()\n"
   ]
  },
  {
   "cell_type": "code",
   "execution_count": null,
   "id": "784c9ac8-fae7-4eec-a3b4-bca5f37552ed",
   "metadata": {},
   "outputs": [],
   "source": [
    "# Another individual jet\n",
    "h = compute[2]['ExampleHistogram']\n",
    "\n",
    "fig, ax = plt.subplots()\n",
    "h.plot1d(ax=ax)  # For 2D histograms like pt vs eta\n",
    "plt.show()\n"
   ]
  },
  {
   "cell_type": "code",
   "execution_count": null,
   "id": "4d861e16-4dbd-4054-9f03-26ec8891b899",
   "metadata": {},
   "outputs": [],
   "source": [
    "# More Individual Jets\n",
    "h = compute[1]['ExampleHistogram'][{'eta':sum}]\n",
    "\n",
    "fig, ax = plt.subplots()\n",
    "h.plot2d(ax=ax)  # For 2D histograms like pt vs eta\n",
    "plt.show()\n"
   ]
  },
  {
   "cell_type": "code",
   "execution_count": null,
   "id": "0b81ef7f-2753-40e3-a509-b00467b77ce4",
   "metadata": {},
   "outputs": [],
   "source": [
    "#Make the first entry in the summation of the same type as the rest of the matrix, that is, 'ExampleHistogram' Type\n",
    "summation = compute[1]['ExampleHistogram']\n",
    "\n",
    "#Sum all the histograms of this same type to the first histogram\n",
    "for index in compute[1:]:\n",
    "    summation +=index['ExampleHistogram']\n",
    "\n",
    "#Plot the summed hist \n",
    "\n",
    "fig, ax = plt.subplots()\n",
    "summation.plot1d(ax=ax)\n",
    "plt.show()\n"
   ]
  },
  {
   "cell_type": "code",
   "execution_count": null,
   "id": "5085a63a-1a43-43cc-98f2-a23e3b060795",
   "metadata": {},
   "outputs": [],
   "source": [
    "#Full file Plot\n",
    "summation[{'eta':sum}].plot1d()\n",
    "\n",
    "# This sums over eta and draws pT"
   ]
  },
  {
   "cell_type": "code",
   "execution_count": null,
   "id": "056fd60b-1cff-4116-bc51-28cce467931f",
   "metadata": {},
   "outputs": [],
   "source": [
    "i = compute[1]['ExampleHistogram']\n",
    "i"
   ]
  },
  {
   "cell_type": "code",
   "execution_count": null,
   "id": "33980b49-7a67-4e3c-929d-882376c22ae8",
   "metadata": {},
   "outputs": [],
   "source": [
    "j = compute[2]['ExampleHistogram']\n",
    "j"
   ]
  },
  {
   "cell_type": "code",
   "execution_count": null,
   "id": "0068d20f-3338-442d-bdfc-f1821789bb42",
   "metadata": {},
   "outputs": [],
   "source": [
    "k = compute[3]['ExampleHistogram']\n",
    "k"
   ]
  },
  {
   "cell_type": "code",
   "execution_count": null,
   "id": "9cd5ae4e-bc33-424e-983f-b6e1662fbb43",
   "metadata": {},
   "outputs": [],
   "source": [
    "l = compute[4]['ExampleHistogram'][{'eta':sum,'pt':sum}]\n",
    "l"
   ]
  },
  {
   "cell_type": "code",
   "execution_count": null,
   "id": "ccfb10cf-919b-4af7-891f-1269aed02e2e",
   "metadata": {},
   "outputs": [],
   "source": [
    "events.fields"
   ]
  },
  {
   "cell_type": "code",
   "execution_count": null,
   "id": "4c972ec1",
   "metadata": {},
   "outputs": [],
   "source": [
    "events['q1pt'].plot1d(overlay='wc')\n",
    "plt.yscale('log')\n",
    "#plt.ylim(1e-4, 1000)\n",
    "\n",
    "plt.legend(ncol=3,bbox_to_anchor=(1.0,1.1));"
   ]
  },
  {
   "cell_type": "code",
   "execution_count": null,
   "id": "32d267a4",
   "metadata": {},
   "outputs": [],
   "source": [
    "output['q2pt'].plot1d(overlay='wc')\n",
    "plt.yscale('log')\n",
    "#plt.ylim(1e-4, 1000)\n",
    "\n",
    "plt.legend(ncol=3,bbox_to_anchor=(1.0,1.1));"
   ]
  },
  {
   "cell_type": "code",
   "execution_count": null,
   "id": "a97d34d5",
   "metadata": {},
   "outputs": [],
   "source": [
    "output['hpt'].plot1d(overlay='wc')\n",
    "plt.yscale('log')\n",
    "#plt.ylim(1e-4, 1000)\n",
    "\n",
    "plt.legend(ncol=3,bbox_to_anchor=(1.0,1.1));"
   ]
  },
  {
   "cell_type": "code",
   "execution_count": null,
   "id": "2b28de93",
   "metadata": {},
   "outputs": [],
   "source": [
    "output['detaqq'].plot1d(overlay='wc')\n",
    "plt.yscale('log')\n",
    "#plt.ylim(1e-4, 1000)\n",
    "\n",
    "plt.legend(ncol=3,bbox_to_anchor=(1.0,1.1));"
   ]
  },
  {
   "cell_type": "code",
   "execution_count": null,
   "id": "19f4735f",
   "metadata": {},
   "outputs": [],
   "source": [
    "output['dphiqq'].plot1d(overlay='wc')\n",
    "plt.yscale('log')\n",
    "#plt.ylim(1e-4, 1000)\n",
    "\n",
    "plt.legend(ncol=3,bbox_to_anchor=(1.0,1.1));"
   ]
  },
  {
   "cell_type": "code",
   "execution_count": null,
   "id": "7aa731ea",
   "metadata": {},
   "outputs": [],
   "source": [
    "output['mqq'].plot1d(overlay='wc')\n",
    "plt.yscale('log')\n",
    "#plt.ylim(1e-4, 1000)\n",
    "\n",
    "plt.legend(ncol=3,bbox_to_anchor=(1.0,1.1));"
   ]
  },
  {
   "cell_type": "code",
   "execution_count": null,
   "id": "6145564e",
   "metadata": {},
   "outputs": [],
   "source": []
  }
 ],
 "metadata": {
  "kernelspec": {
   "display_name": "Python 3 (ipykernel)",
   "language": "python",
   "name": "python3"
  },
  "language_info": {
   "codemirror_mode": {
    "name": "ipython",
    "version": 3
   },
   "file_extension": ".py",
   "mimetype": "text/x-python",
   "name": "python",
   "nbconvert_exporter": "python",
   "pygments_lexer": "ipython3",
   "version": "3.12.3"
  }
 },
 "nbformat": 4,
 "nbformat_minor": 5
}
