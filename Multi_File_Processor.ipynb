{
 "cells": [
  {
   "cell_type": "code",
   "execution_count": 1,
   "id": "1ebb9a35-87f0-4d32-afaa-c42351667f7a",
   "metadata": {},
   "outputs": [],
   "source": [
    "%load_ext autoreload\n",
    "from coffea import util, processor\n",
    "from msdprocessor5 import msdProcessor\n",
    "\n",
    "from coffea.nanoevents import NanoEventsFactory, PFNanoAODSchema\n",
    "import json\n",
    "import distributed\n",
    "import dask\n",
    "import awkward as ak\n",
    "import hist\n",
    "import numpy as np\n",
    "import matplotlib.pyplot as plt\n",
    "from matplotlib.colors import LogNorm\n",
    "from matplotlib.animation import FuncAnimation, PillowWriter\n",
    "import matplotlib.colors as mcolors\n",
    "from mpl_toolkits.mplot3d import Axes3D\n",
    "from hist import Hist\n",
    "import dask_awkward\n",
    "import os\n",
    "import math"
   ]
  },
  {
   "cell_type": "code",
   "execution_count": 2,
   "id": "542622f9-8766-478d-89b8-fee7b03f831a",
   "metadata": {},
   "outputs": [
    {
     "name": "stdout",
     "output_type": "stream",
     "text": [
      "Fileset: ['/uscms/home/jennetd/nobackup/hbb-prod-modes/run3-triggers/data-mc/ggF.root', '/uscms/home/jennetd/nobackup/hbb-prod-modes/run3-triggers/data-mc/VBF.root', '/uscms/home/jennetd/nobackup/hbb-prod-modes/run3-triggers/data-mc/WminusH.root', '/uscms/home/jennetd/nobackup/hbb-prod-modes/run3-triggers/data-mc/ZH.root', '/uscms/home/jennetd/nobackup/hbb-prod-modes/run3-triggers/data-mc/QCD_Pt470to600.root']\n"
     ]
    }
   ],
   "source": [
    "directory_path = \"/uscms/home/jennetd/nobackup/hbb-prod-modes/run3-triggers/data-mc/\"\n",
    "\n",
    "fileset = []\n",
    "for filename in os.listdir(directory_path):\n",
    "    if filename.endswith(\".root\"):\n",
    "        # Add the full file path to the fileset list\n",
    "        fileset.append(os.path.join(directory_path, filename))\n",
    "\n",
    "print(\"Fileset:\", fileset)"
   ]
  },
  {
   "cell_type": "code",
   "execution_count": 3,
   "id": "dd82945c-5684-4a13-b0ed-11c46d78f87b",
   "metadata": {},
   "outputs": [],
   "source": [
    "n_global = 1\n",
    "beta_range_global = 0  # For instance, beta=0 if n=1\n",
    "z_cut_range_global = 1 # For instance, z_cut=1 if n=1\n",
    "\n",
    "def trunc(num):\n",
    "    \"\"\"Truncate to 3 decimal places.\"\"\"\n",
    "    return math.trunc(num * 1000) / 1000"
   ]
  },
  {
   "cell_type": "code",
   "execution_count": 4,
   "id": "be5aaa4c-b436-4c84-b7c2-774eb59b9915",
   "metadata": {},
   "outputs": [
    {
     "name": "stdout",
     "output_type": "stream",
     "text": [
      "\n",
      "Processing file:  /uscms/home/jennetd/nobackup/hbb-prod-modes/run3-triggers/data-mc/ggF.root\n",
      "Production mode:  ggF\n"
     ]
    },
    {
     "name": "stderr",
     "output_type": "stream",
     "text": [
      "/uscms/home/tbabenko/nobackup/miniconda3/envs/fastjet/lib/python3.12/site-packages/coffea/nanoevents/methods/candidate.py:11: FutureWarning: In version 2024.7.0 (target date: 2024-06-30 11:59:59-05:00), this will be an error.\n",
      "To raise these warnings as errors (and get stack traces to find out where they're called), run\n",
      "    import warnings\n",
      "    warnings.filterwarnings(\"error\", module=\"coffea.*\")\n",
      "after the first `import coffea` or use `@pytest.mark.filterwarnings(\"error:::coffea.*\")` in pytest.\n",
      "Issue: coffea.nanoevents.methods.vector will be removed and replaced with scikit-hep vector. Nanoevents schemas internal to coffea will be migrated. Otherwise please consider using that package!.\n",
      "  from coffea.nanoevents.methods import vector\n"
     ]
    },
    {
     "name": "stdout",
     "output_type": "stream",
     "text": [
      "\n",
      "Processing file:  /uscms/home/jennetd/nobackup/hbb-prod-modes/run3-triggers/data-mc/VBF.root\n",
      "Production mode:  VBF\n",
      "\n",
      "Processing file:  /uscms/home/jennetd/nobackup/hbb-prod-modes/run3-triggers/data-mc/WminusH.root\n",
      "Production mode:  WminusH\n",
      "\n",
      "Processing file:  /uscms/home/jennetd/nobackup/hbb-prod-modes/run3-triggers/data-mc/ZH.root\n",
      "Production mode:  ZH\n",
      "\n",
      "Processing file:  /uscms/home/jennetd/nobackup/hbb-prod-modes/run3-triggers/data-mc/QCD_Pt470to600.root\n",
      "Production mode:  QCD_Pt470to600\n"
     ]
    }
   ],
   "source": [
    "for file in fileset:\n",
    "    # Extract the production mode name from the file path\n",
    "    prod_mode = file.split('/data-mc/')[-1].replace('.root', '')\n",
    "    print(f\"\\nProcessing file:  {file}\")\n",
    "    print(f\"Production mode:  {prod_mode}\")\n",
    "\n",
    "    # Read events using NanoEventsFactory\n",
    "    events = NanoEventsFactory.from_root(\n",
    "        {file: \"/Events\"},\n",
    "        schemaclass=PFNanoAODSchema\n",
    "    ).events()"
   ]
  },
  {
   "cell_type": "code",
   "execution_count": 5,
   "id": "66f29a13-5d98-4160-8a69-0436dbbf2bbb",
   "metadata": {},
   "outputs": [],
   "source": [
    "result = msdProcessor().process(\n",
    "        events,\n",
    "        beta=beta_range_global,\n",
    "        z_cut=z_cut_range_global,\n",
    "        n=n_global\n",
    "    )"
   ]
  },
  {
   "cell_type": "code",
   "execution_count": 7,
   "id": "5490e40a-d9ab-4220-80dd-59bbd9387230",
   "metadata": {},
   "outputs": [
    {
     "name": "stdout",
     "output_type": "stream",
     "text": [
      "#--------------------------------------------------------------------------\n",
      "#                         FastJet release 3.4.1\n",
      "#                 M. Cacciari, G.P. Salam and G. Soyez                  \n",
      "#     A software package for jet finding and analysis at colliders      \n",
      "#                           http://fastjet.fr                           \n",
      "#\t                                                                      \n",
      "# Please cite EPJC72(2012)1896 [arXiv:1111.6097] if you use this package\n",
      "# for scientific work and optionally PLB641(2006)57 [hep-ph/0512210].   \n",
      "#                                                                       \n",
      "# FastJet is provided without warranty under the GNU GPL v2 or higher.  \n",
      "# It uses T. Chan's closest pair algorithm, S. Fortune's Voronoi code,\n",
      "# CGAL and 3rd party plugin jet algorithms. See COPYING file for details.\n",
      "#--------------------------------------------------------------------------\n",
      "Result for QCD_Pt470to600: ([{'sumw': 87635.195, 'b00': Hist(Regular(40, 0, 400, name='msoftdrop', label='Jet $m_\\\\mathrm{softdrop}$ [GeV]'), storage=Weight()) # Sum: WeightedSum(value=87632.2, variance=87632.4) (WeightedSum(value=87635.2, variance=87635.4) with flow)}],)\n"
     ]
    }
   ],
   "source": [
    "compute = dask.compute(result)\n",
    "print(f\"Result for {prod_mode}:\", compute)\n"
   ]
  },
  {
   "cell_type": "code",
   "execution_count": 9,
   "id": "fd62c64c-406e-4916-8e2c-19e56bcd013d",
   "metadata": {},
   "outputs": [],
   "source": [
    "n_betas = n_global\n",
    "n_zcuts = n_betas\n",
    "\n",
    "compute_matrix = [[None for _ in range(n_zcuts)] for _ in range(n_betas)]\n",
    "for beta in range(n_betas):\n",
    "    for z_cut in range(n_zcuts):\n",
    "        # Access the histogram stored under f\"b{beta}{z_cut}\"\n",
    "        compute_matrix[beta][z_cut] = compute[0][0][f\"b{beta}{z_cut}\"]"
   ]
  },
  {
   "cell_type": "code",
   "execution_count": 10,
   "id": "43e70426-a736-4804-a9de-7771defb0389",
   "metadata": {},
   "outputs": [
    {
     "name": "stdout",
     "output_type": "stream",
     "text": [
      "Saved Coffea file: QCD_Pt470to600_beta0.0_zcut0.0.coffea\n"
     ]
    }
   ],
   "source": [
    "for z_cut in range(n_zcuts):\n",
    "        for beta in range(n_betas):\n",
    "            current_beta = trunc(beta * (beta_range_global) / n_global)\n",
    "            current_z_cut = trunc(z_cut * (z_cut_range_global) / n_global)\n",
    "\n",
    "            # Construct a filename that includes prod_mode, beta, and z_cut\n",
    "            coffea_filename = f\"{prod_mode}_beta{current_beta}_zcut{current_z_cut}.coffea\"\n",
    "\n",
    "            # Save this single histogram data to the Coffea file\n",
    "            util.save(compute_matrix[beta][z_cut], coffea_filename)\n",
    "            print(f\"Saved Coffea file: {coffea_filename}\")\n"
   ]
  },
  {
   "cell_type": "code",
   "execution_count": null,
   "id": "9dad928c-61ea-4612-a9ed-666301cbb75f",
   "metadata": {},
   "outputs": [],
   "source": [
    "x_min, x_max = 0, 400\n",
    "y_min, y_max = 0, 800\n",
    "\n",
    "for z_cut in range(n_zcuts):\n",
    "    for beta in range(n_betas):\n",
    "        # Create the figure\n",
    "        fig, ax = plt.subplots()\n",
    "\n",
    "        current_beta = trunc(beta * (beta_range_global) / n_global)\n",
    "        current_z_cut = trunc(z_cut * (z_cut_range_global) / n_global)\n",
    "\n",
    "        # Plot the histogram\n",
    "        compute_matrix[beta][z_cut].plot1d(ax=ax, \n",
    "            label=f\"beta = {current_beta}, z_cut = {current_z_cut}\")\n",
    "\n",
    "        # Fix axis limits\n",
    "        ax.set_xlim(x_min, x_max)\n",
    "        ax.set_ylim(y_min, y_max)\n",
    "    \n",
    "        # Set a title\n",
    "        ax.set_title(f\"File = {prod_mode}, beta = {current_beta}, z_cut = {current_z_cut}\")\n",
    "    \n",
    "        # Add legend and save the figure\n",
    "        ax.legend()\n",
    "        plot_filename = f\"{prod_mode}-zcut{current_z_cut}-beta{current_beta}.png\"\n",
    "        plt.savefig(plot_filename, dpi=300)\n",
    "        plt.close(fig)\n",
    "\n",
    "        print(f\"Saved plot: {plot_filename}\")"
   ]
  },
  {
   "cell_type": "code",
   "execution_count": null,
   "id": "02be5cd9-e4cc-4143-bdb1-e4e0a6047f44",
   "metadata": {},
   "outputs": [],
   "source": []
  }
 ],
 "metadata": {
  "kernelspec": {
   "display_name": "Python 3 (ipykernel)",
   "language": "python",
   "name": "python3"
  },
  "language_info": {
   "codemirror_mode": {
    "name": "ipython",
    "version": 3
   },
   "file_extension": ".py",
   "mimetype": "text/x-python",
   "name": "python",
   "nbconvert_exporter": "python",
   "pygments_lexer": "ipython3",
   "version": "3.12.3"
  }
 },
 "nbformat": 4,
 "nbformat_minor": 5
}
